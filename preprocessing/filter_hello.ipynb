{
 "cells": [
  {
   "cell_type": "code",
   "execution_count": 8,
   "metadata": {},
   "outputs": [],
   "source": [
    "import pandas as pd\n",
    "from glob import glob\n",
    "import re"
   ]
  },
  {
   "cell_type": "code",
   "execution_count": 9,
   "metadata": {},
   "outputs": [],
   "source": [
    "test = glob(\"./data/mid_merge/*.csv\")"
   ]
  },
  {
   "cell_type": "code",
   "execution_count": 10,
   "metadata": {},
   "outputs": [],
   "source": [
    "def clean_string(text):\n",
    "    text = text.replace(\"/n\", \"\")\n",
    "    text = text.replace(\".w\", \"\")\n",
    "    text = text.replace(\".e\", \"\")\n",
    "    text = text.replace(\".n\", \"\")\n",
    "    text = text.replace(\".s\", \"\")\n",
    "    text = text.replace(\"w/\", \"\")\n",
    "    text = text.replace(\"e/\", \"\")\n",
    "    text = text.replace(\"n/\", \"\")\n",
    "    text = text.replace(\"s/\", \"\")\n",
    "    text = text.replace(\"[/n]\", \"\")\n",
    "    text = text.replace(\"  \", \" \")\n",
    "    text = text.replace(\":)\", \"\")\n",
    "    text = text.replace(\";)\", \"\")\n",
    "    text = text.replace(\";-)\", \"\")\n",
    "    text = text.replace(\":D\", \"\")\n",
    "    text = text.replace(\":(\", \"\")\n",
    "    text = text.replace(\"no_reply\", \"\")\n",
    "    text = text.replace(\"NO_REPLY\", \"\")\n",
    "    return text"
   ]
  },
  {
   "cell_type": "code",
   "execution_count": 11,
   "metadata": {},
   "outputs": [],
   "source": [
    "def make_bot_dial(text):\n",
    "    #text = re.sub('hi','other text',text)\n",
    "    text = re.sub('^[hH]i(\\sthere)*\\s*(howdy)*\\s*[.,:;!-]*','',text)\n",
    "    text = re.sub('^[hH]ey(\\sthere)*\\s*(howdy)*\\s*[.,:;!-]*','',text)\n",
    "    text = re.sub(r'[hH]ello(\\sthere)*\\s*(howdy)*\\s*[.,:;!-]*','',text)\n",
    "    text = re.sub(r'howdy(\\s)*[.,:;!]*','',text)\n",
    "    return text"
   ]
  },
  {
   "cell_type": "code",
   "execution_count": 12,
   "metadata": {},
   "outputs": [
    {
     "name": "stdout",
     "output_type": "stream",
     "text": [
      "0                                   i'm in the playroom\n",
      "1                                   you have to go west\n",
      "2                                What does it look like\n",
      "3                                    describe it please\n",
      "4     I'm in one as well, I see a small chalkboard i...\n",
      "5         Please describe what you see in your playroom\n",
      "6                                         Hello????????\n",
      "7                                     has a little boy \n",
      "8                                          with a table\n",
      "9                                       and blyue chair\n",
      "10                             Okay I will keep looking\n",
      "11                                              go west\n",
      "12                      It's different for both of us..\n",
      "Name: msg, dtype: object\n"
     ]
    }
   ],
   "source": [
    "for t in test:\n",
    "    d = pd.read_csv(t)\n",
    "    d = d.loc[((d[\"user\"] == \"GM\") & (d[\"m-type\"] == \"new_image\")) | ((d[\"user\"] != \"GM\") & (d[\"m-type\"] == \"text\"))]\n",
    "    indices = d[d[\"user\"] != \"GM\"].index[:5]\n",
    "    # Apply the function to these indices\n",
    "    d.loc[indices, \"msg\"] = d.loc[indices, \"msg\"].apply(make_bot_dial)\n",
    "\n",
    "    indices = d[d[\"user\"] != \"GM\"].index\n",
    "    d.loc[indices, \"msg\"] = d.loc[indices, \"msg\"].apply(clean_string)\n",
    "\n",
    "    d = d[d[\"msg\"] != \"\"]\n",
    "    if any(d[\"msg\"].str.contains('Hello')):\n",
    "        print(d['msg'])\n",
    "\n",
    "    d.to_csv(\"./data/mid_merge_f/\"+t.split('/')[-1], index=False)\n"
   ]
  }
 ],
 "metadata": {
  "kernelspec": {
   "display_name": "Python 3",
   "language": "python",
   "name": "python3"
  },
  "language_info": {
   "codemirror_mode": {
    "name": "ipython",
    "version": 3
   },
   "file_extension": ".py",
   "mimetype": "text/x-python",
   "name": "python",
   "nbconvert_exporter": "python",
   "pygments_lexer": "ipython3",
   "version": "3.10.12"
  }
 },
 "nbformat": 4,
 "nbformat_minor": 2
}
