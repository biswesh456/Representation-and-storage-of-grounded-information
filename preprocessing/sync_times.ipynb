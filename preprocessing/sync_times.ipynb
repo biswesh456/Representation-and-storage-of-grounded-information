{
 "cells": [
  {
   "cell_type": "code",
   "execution_count": 43,
   "metadata": {},
   "outputs": [],
   "source": [
    "import sys \n",
    "sys.path.append('../source/')\n",
    "import pandas as pd\n",
    "from glob import glob\n",
    "from prompt import get_dialog\n",
    "import os\n",
    "dirs = glob(\"../data/meetup_target/*\")[1:]\n",
    "dirs = dirs[:2] + dirs[3:]"
   ]
  },
  {
   "cell_type": "code",
   "execution_count": 44,
   "metadata": {},
   "outputs": [
    {
     "name": "stdout",
     "output_type": "stream",
     "text": [
      "['../data/meetup_target/Inferred', '../data/meetup_target/Has-A_Is-A', '../data/meetup_target/Temporal', '../data/meetup_target/Spatial']\n"
     ]
    }
   ],
   "source": [
    "print(dirs)"
   ]
  },
  {
   "cell_type": "code",
   "execution_count": 51,
   "metadata": {},
   "outputs": [],
   "source": [
    "for d in dirs:\n",
    "    files = glob(d+\"/*\")\n",
    "    for f in files:\n",
    "        df = pd.read_csv(f)\n",
    "        dialog = get_dialog(df, return_messages=True)\n",
    "        times = dialog[1]\n",
    "        times = [t for t in times if t != \"-1\"]\n",
    "        df.loc[:len(df)-3, [\"time\"]] = times\n",
    "        path = f.replace(\"meetup_target\", \"meetup_target_synced\")\n",
    "        \n",
    "        if not os.path.exists(\"../data/meetup_target_synced/\" + path.split(\"/\")[-2] + \"/\"):\n",
    "            os.makedirs(\"../data/meetup_target_synced/\" + path.split(\"/\")[-2] + \"/\")\n",
    "        #print(path)\n",
    "        df.to_csv(path, index=False)"
   ]
  }
 ],
 "metadata": {
  "kernelspec": {
   "display_name": "Python 3",
   "language": "python",
   "name": "python3"
  },
  "language_info": {
   "codemirror_mode": {
    "name": "ipython",
    "version": 3
   },
   "file_extension": ".py",
   "mimetype": "text/x-python",
   "name": "python",
   "nbconvert_exporter": "python",
   "pygments_lexer": "ipython3",
   "version": "3.10.12"
  }
 },
 "nbformat": 4,
 "nbformat_minor": 2
}
