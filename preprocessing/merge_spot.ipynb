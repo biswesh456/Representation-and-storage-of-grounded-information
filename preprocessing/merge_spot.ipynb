{
 "cells": [
  {
   "cell_type": "code",
   "execution_count": 19,
   "metadata": {},
   "outputs": [],
   "source": [
    "import numpy as np \n",
    "from random import shuffle\n",
    "import pandas as pd\n",
    "from glob import glob"
   ]
  },
  {
   "cell_type": "code",
   "execution_count": 20,
   "metadata": {},
   "outputs": [],
   "source": [
    "spot_images = glob(\"./data/spot_top/*.csv\")\n",
    "spot_images = [s.split('_')[-1] for s in spot_images]\n",
    "spot_images = np.unique(spot_images).tolist()\n",
    "aspots = {'top':{},\n",
    "          'mid':{},\n",
    "          'bot':{}}\n",
    "for s in spot_images:\n",
    "    aspots['top'][s.split('.')[0]] = glob(\"./data/spot_top/*\"+s)\n",
    "    aspots['mid'][s.split('.')[0]] = glob(\"./data/spot_mid/*\"+s)\n",
    "    aspots['bot'][s.split('.')[0]] = glob(\"./data/spot_bot/*\"+s)"
   ]
  },
  {
   "cell_type": "code",
   "execution_count": 21,
   "metadata": {},
   "outputs": [
    {
     "name": "stdout",
     "output_type": "stream",
     "text": [
      "{'top': {'beach': ['./data/spot_top/U1C_U6C_beach.csv', './data/spot_top/U3A_U4C_beach.csv', './data/spot_top/U3C_U4B_beach.csv', './data/spot_top/U2B_U5C_beach.csv', './data/spot_top/U7B_U12B_beach.csv', './data/spot_top/U7C_U12C_beach.csv', './data/spot_top/U2C_U5A_beach.csv'], 'church': ['./data/spot_top/U7C_U12C_church.csv', './data/spot_top/U7B_U12B_church.csv', './data/spot_top/U3C_U4A_church.csv', './data/spot_top/U1A_U6C_church.csv', './data/spot_top/U3B_U4C_church.csv'], 'city': ['./data/spot_top/U3C_U4A_city.csv', './data/spot_top/U7C_U12C_city.csv', './data/spot_top/U3B_U4C_city.csv', './data/spot_top/U7B_U12B_city.csv', './data/spot_top/U3A_U4B_city.csv'], 'farm': ['./data/spot_top/U7C_U12C_farm.csv', './data/spot_top/U1C_U6C_farm.csv', './data/spot_top/U3C_U4B_farm.csv', './data/spot_top/U1A_U6A_farm.csv'], 'house': ['./data/spot_top/U2C_U5B_house.csv', './data/spot_top/U3B_U4B_house.csv', './data/spot_top/U7C_U12C_house.csv', './data/spot_top/U7B_U12B_house.csv', './data/spot_top/U1A_U6B_house.csv', './data/spot_top/U1C_U6A_house.csv', './data/spot_top/U1B_U6C_house.csv'], 'jungle': ['./data/spot_top/U7B_U12B_jungle.csv', './data/spot_top/U7C_U12C_jungle.csv', './data/spot_top/U3C_U4A_jungle.csv', './data/spot_top/U1B_U6A_jungle.csv', './data/spot_top/U3B_U4C_jungle.csv', './data/spot_top/U1C_U6B_jungle.csv'], 'sea': ['./data/spot_top/U1A_U6B_sea.csv', './data/spot_top/U3B_U4B_sea.csv', './data/spot_top/U2C_U5B_sea.csv', './data/spot_top/U1C_U6A_sea.csv', './data/spot_top/U7B_U12B_sea.csv'], 'sheep': ['./data/spot_top/U2C_U5B_sheep.csv', './data/spot_top/U7B_U12B_sheep.csv', './data/spot_top/U3B_U4B_sheep.csv', './data/spot_top/U1B_U6C_sheep.csv', './data/spot_top/U1C_U6A_sheep.csv'], 'winter': ['./data/spot_top/U3A_U4C_winter.csv', './data/spot_top/U2B_U5C_winter.csv', './data/spot_top/U3B_U4A_winter.csv', './data/spot_top/U3C_U4B_winter.csv', './data/spot_top/U2C_U5A_winter.csv', './data/spot_top/U7B_U12B_winter.csv']}, 'mid': {'beach': ['./data/spot_mid/U1C_U6C_beach.csv', './data/spot_mid/U3A_U4C_beach.csv', './data/spot_mid/U3C_U4B_beach.csv', './data/spot_mid/U2B_U5C_beach.csv', './data/spot_mid/U7B_U12B_beach.csv', './data/spot_mid/U7C_U12C_beach.csv', './data/spot_mid/U2C_U5A_beach.csv'], 'church': ['./data/spot_mid/U7C_U12C_church.csv', './data/spot_mid/U7B_U12B_church.csv', './data/spot_mid/U3C_U4A_church.csv', './data/spot_mid/U1A_U6C_church.csv', './data/spot_mid/U3B_U4C_church.csv'], 'city': ['./data/spot_mid/U3C_U4A_city.csv', './data/spot_mid/U7C_U12C_city.csv', './data/spot_mid/U3B_U4C_city.csv', './data/spot_mid/U7B_U12B_city.csv', './data/spot_mid/U3A_U4B_city.csv'], 'farm': ['./data/spot_mid/U7C_U12C_farm.csv', './data/spot_mid/U1C_U6C_farm.csv', './data/spot_mid/U3C_U4B_farm.csv', './data/spot_mid/U1A_U6A_farm.csv'], 'house': ['./data/spot_mid/U2C_U5B_house.csv', './data/spot_mid/U3B_U4B_house.csv', './data/spot_mid/U7C_U12C_house.csv', './data/spot_mid/U7B_U12B_house.csv', './data/spot_mid/U1A_U6B_house.csv', './data/spot_mid/U1C_U6A_house.csv', './data/spot_mid/U1B_U6C_house.csv'], 'jungle': ['./data/spot_mid/U7B_U12B_jungle.csv', './data/spot_mid/U7C_U12C_jungle.csv', './data/spot_mid/U3C_U4A_jungle.csv', './data/spot_mid/U1B_U6A_jungle.csv', './data/spot_mid/U3B_U4C_jungle.csv', './data/spot_mid/U1C_U6B_jungle.csv'], 'sea': ['./data/spot_mid/U1A_U6B_sea.csv', './data/spot_mid/U3B_U4B_sea.csv', './data/spot_mid/U2C_U5B_sea.csv', './data/spot_mid/U1C_U6A_sea.csv', './data/spot_mid/U7B_U12B_sea.csv'], 'sheep': ['./data/spot_mid/U2C_U5B_sheep.csv', './data/spot_mid/U7B_U12B_sheep.csv', './data/spot_mid/U3B_U4B_sheep.csv', './data/spot_mid/U1B_U6C_sheep.csv', './data/spot_mid/U1C_U6A_sheep.csv'], 'winter': ['./data/spot_mid/U3A_U4C_winter.csv', './data/spot_mid/U2B_U5C_winter.csv', './data/spot_mid/U3B_U4A_winter.csv', './data/spot_mid/U3C_U4B_winter.csv', './data/spot_mid/U2C_U5A_winter.csv', './data/spot_mid/U7B_U12B_winter.csv']}, 'bot': {'beach': ['./data/spot_bot/U1C_U6C_beach.csv', './data/spot_bot/U3A_U4C_beach.csv', './data/spot_bot/U3C_U4B_beach.csv', './data/spot_bot/U2B_U5C_beach.csv', './data/spot_bot/U7B_U12B_beach.csv', './data/spot_bot/U7C_U12C_beach.csv', './data/spot_bot/U2C_U5A_beach.csv'], 'church': ['./data/spot_bot/U7C_U12C_church.csv', './data/spot_bot/U7B_U12B_church.csv', './data/spot_bot/U3C_U4A_church.csv', './data/spot_bot/U1A_U6C_church.csv', './data/spot_bot/U3B_U4C_church.csv'], 'city': ['./data/spot_bot/U3C_U4A_city.csv', './data/spot_bot/U7C_U12C_city.csv', './data/spot_bot/U3B_U4C_city.csv', './data/spot_bot/U7B_U12B_city.csv', './data/spot_bot/U3A_U4B_city.csv'], 'farm': ['./data/spot_bot/U7C_U12C_farm.csv', './data/spot_bot/U1C_U6C_farm.csv', './data/spot_bot/U3C_U4B_farm.csv', './data/spot_bot/U1A_U6A_farm.csv'], 'house': ['./data/spot_bot/U2C_U5B_house.csv', './data/spot_bot/U3B_U4B_house.csv', './data/spot_bot/U7C_U12C_house.csv', './data/spot_bot/U7B_U12B_house.csv', './data/spot_bot/U1A_U6B_house.csv', './data/spot_bot/U1C_U6A_house.csv', './data/spot_bot/U1B_U6C_house.csv'], 'jungle': ['./data/spot_bot/U7B_U12B_jungle.csv', './data/spot_bot/U7C_U12C_jungle.csv', './data/spot_bot/U3C_U4A_jungle.csv', './data/spot_bot/U1B_U6A_jungle.csv', './data/spot_bot/U3B_U4C_jungle.csv', './data/spot_bot/U1C_U6B_jungle.csv'], 'sea': ['./data/spot_bot/U1A_U6B_sea.csv', './data/spot_bot/U3B_U4B_sea.csv', './data/spot_bot/U2C_U5B_sea.csv', './data/spot_bot/U1C_U6A_sea.csv', './data/spot_bot/U7B_U12B_sea.csv'], 'sheep': ['./data/spot_bot/U2C_U5B_sheep.csv', './data/spot_bot/U7B_U12B_sheep.csv', './data/spot_bot/U3B_U4B_sheep.csv', './data/spot_bot/U1B_U6C_sheep.csv', './data/spot_bot/U1C_U6A_sheep.csv'], 'winter': ['./data/spot_bot/U3A_U4C_winter.csv', './data/spot_bot/U2B_U5C_winter.csv', './data/spot_bot/U3B_U4A_winter.csv', './data/spot_bot/U3C_U4B_winter.csv', './data/spot_bot/U2C_U5A_winter.csv', './data/spot_bot/U7B_U12B_winter.csv']}}\n"
     ]
    }
   ],
   "source": [
    "print(aspots)"
   ]
  },
  {
   "cell_type": "code",
   "execution_count": 22,
   "metadata": {},
   "outputs": [
    {
     "name": "stdout",
     "output_type": "stream",
     "text": [
      "['beach.csv', 'church.csv', 'city.csv', 'farm.csv', 'house.csv', 'jungle.csv', 'sea.csv', 'sheep.csv', 'winter.csv']\n",
      "{'beach.csv', 'church.csv', 'sea.csv', 'winter.csv', 'jungle.csv', 'house.csv', 'farm.csv', 'city.csv', 'sheep.csv'}\n"
     ]
    }
   ],
   "source": [
    "print(spot_images)\n",
    "spot_images = set(spot_images)\n",
    "print(spot_images)"
   ]
  },
  {
   "cell_type": "code",
   "execution_count": 23,
   "metadata": {},
   "outputs": [],
   "source": [
    "def generate_successives(content, aspots, spot_images, generated, n):\n",
    "    choice = np.random.choice(list(spot_images - set(content)), n, replace=False) \n",
    "    choice = [np.random.choice(aspots[\"mid\"][c.split('.')[0]]) for c in choice[:-1]] + [np.random.choice(aspots[\"bot\"][choice[0].split('.')[0]])]\n",
    "    temp_content = [content] + choice\n",
    "    str_temp_content = \"\"\n",
    "    for c in temp_content:\n",
    "        str_temp_content += c\n",
    "\n",
    "    cpt = 0\n",
    "    while str_temp_content in generated:\n",
    "        choice = np.random.choice(list(spot_images - set(content)), n, replace=False) \n",
    "        choice = [np.random.choice(aspots[\"mid\"][c.split('.')[0]]) for c in choice[:-1]] + [np.random.choice(aspots[\"bot\"][choice[0].split('.')[0]])]\n",
    "        temp_content = [content] + choice\n",
    "        str_temp_content = \"\"\n",
    "        for c in temp_content:\n",
    "            str_temp_content += c\n",
    "        if cpt > 100:\n",
    "            return -1 \n",
    "        else :\n",
    "            cpt += 1\n",
    "    generated += [str_temp_content]\n",
    "    return list(choice)\n"
   ]
  },
  {
   "cell_type": "code",
   "execution_count": 24,
   "metadata": {},
   "outputs": [],
   "source": [
    "from ast import literal_eval\n",
    "def add_offset(serie, offset):\n",
    "    #print(\"OFFSET :\", offset)\n",
    "    #print(serie)\n",
    "    res = []\n",
    "    for i,row in enumerate(serie):\n",
    "        if type(row) == str:\n",
    "            row = literal_eval(row)\n",
    "            if row != []:\n",
    "                res += [[v+(100*offset) for v in row]]\n",
    "            else :\n",
    "                res+=[]\n",
    "        else: \n",
    "            res += [np.nan]\n",
    "    #print(pd.Series(res))\n",
    "    return pd.Series(res)"
   ]
  },
  {
   "cell_type": "code",
   "execution_count": 25,
   "metadata": {},
   "outputs": [],
   "source": [
    "transitions = [\n",
    "    \"Moving on to the next picture.\",\n",
    "    \"Proceeding to the next photo.\",\n",
    "    \"Moving ahead to the next image.\",\n",
    "    \"Let's jump to the next image.\",\n",
    "    \"Let's see the next image now.\",\n",
    "    \"Let's look at the next image.\",\n",
    "    \"Let's go to the next image now.\",\n",
    "    \"Let's go next.\",\n",
    "    \"Let's check out the next image.\",\n",
    "    \"Time to move to the next picture.\",\n",
    "    \"Let's switch to the next image now.\",\n",
    "    \"Let's proceed to the next image.\"\n",
    "]\n",
    "    \n",
    "def add_transition():\n",
    "    #if np.random.random() > 0.5:\n",
    "        #return np.random.choice(transitions_directed)\n",
    "    #else :\n",
    "        return np.random.choice(transitions)"
   ]
  },
  {
   "cell_type": "code",
   "execution_count": 26,
   "metadata": {},
   "outputs": [],
   "source": [
    "def combine_spot(n, t):\n",
    "    spot = glob(\"./data/spot_top/*.csv\")\n",
    "    spot = [s.split(\"/\")[-1] for s in spot]\n",
    "    \n",
    "    generated = []\n",
    "    dataset = []\n",
    "    for i in range(t):\n",
    "        dfs = []\n",
    "        \n",
    "        content = set()\n",
    "        top = i % len(spot)\n",
    "        top_df = pd.read_csv(\"./data/spot_top/\"+spot[top])\n",
    "        names = spot[top].split(\"/\")[-1].split(\".\")[0] + '-'\n",
    "        dfs += [top_df]\n",
    "        dfs[-1] = pd.concat([dfs[-1], dfs[-1].iloc[-1:]], ignore_index=True)\n",
    "        dfs[-1].loc[dfs[-1].index[-1], \"utterance\"] = add_transition()\n",
    "        content = content.union(set([spot[top].split('_')[-1]]))\n",
    "        next_dialogues = generate_successives(spot[top], aspots, spot_images, generated, n-1)\n",
    "        #print(next_dialogues)\n",
    "        for j in range(n-1):\n",
    "            mid_df = pd.read_csv(next_dialogues[j])\n",
    "            mid_df.loc[:, \"DU ID\"]  = add_offset(mid_df[\"DU ID\"], j+1)\n",
    "            mid_df.loc[:, \"Grounded CGUs\"]  = add_offset(mid_df[\"Grounded CGUs\"], j+1)\n",
    "            mid_df.loc[:, \"Opened CGUs\"]  = add_offset(mid_df[\"Opened CGUs\"], j+1)\n",
    "            if j != n-2 : \n",
    "                names += next_dialogues[j].split(\"/\")[-1].split(\".\")[0] + '-'\n",
    "            else : \n",
    "                names += next_dialogues[j].split(\"/\")[-1].split(\".\")[0]\n",
    "            dfs += [mid_df]\n",
    "            dfs[-1] = pd.concat([dfs[-1], dfs[-1].iloc[-1:]], ignore_index=True)\n",
    "            dfs[-1].loc[dfs[-1].index[-1], \"utterance\"] = add_transition()\n",
    "\n",
    "        #print(names)\n",
    "        dfs = pd.concat(dfs)\n",
    "        path_save = \"./data/merged_spot/merge_\" + names + \".csv\"\n",
    "        dfs.to_csv(path_save, index=False)\n",
    "        dataset += [dfs]\n",
    "    return dataset\n",
    "datatest = combine_spot(4,150)"
   ]
  }
 ],
 "metadata": {
  "kernelspec": {
   "display_name": "Python 3",
   "language": "python",
   "name": "python3"
  },
  "language_info": {
   "codemirror_mode": {
    "name": "ipython",
    "version": 3
   },
   "file_extension": ".py",
   "mimetype": "text/x-python",
   "name": "python",
   "nbconvert_exporter": "python",
   "pygments_lexer": "ipython3",
   "version": "3.10.12"
  }
 },
 "nbformat": 4,
 "nbformat_minor": 2
}
