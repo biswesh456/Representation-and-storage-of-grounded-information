{
 "cells": [
  {
   "cell_type": "code",
   "execution_count": 1,
   "metadata": {},
   "outputs": [],
   "source": [
    "import json\n",
    "from glob import glob\n",
    "import os\n",
    "import pandas as pd\n",
    "from tqdm.notebook import tqdm"
   ]
  },
  {
   "cell_type": "code",
   "execution_count": 2,
   "metadata": {},
   "outputs": [],
   "source": [
    "dirs = [i for i in glob(\"../runs/meetup_target/*\") if \"csv\" not in i]"
   ]
  },
  {
   "cell_type": "code",
   "execution_count": 3,
   "metadata": {},
   "outputs": [
    {
     "name": "stdout",
     "output_type": "stream",
     "text": [
      "['../runs/meetup_target/Inferred', '../runs/meetup_target/Has-A_Is-A', '../runs/meetup_target/Temporal', '../runs/meetup_target/Spatial']\n"
     ]
    }
   ],
   "source": [
    "print(dirs)"
   ]
  },
  {
   "cell_type": "code",
   "execution_count": 4,
   "metadata": {},
   "outputs": [
    {
     "data": {
      "application/vnd.jupyter.widget-view+json": {
       "model_id": "1344238730cc4eb7ab97b25c33396703",
       "version_major": 2,
       "version_minor": 0
      },
      "text/plain": [
       "  0%|          | 0/2 [00:00<?, ?it/s]"
      ]
     },
     "metadata": {},
     "output_type": "display_data"
    },
    {
     "data": {
      "application/vnd.jupyter.widget-view+json": {
       "model_id": "cdd3824d97004a71ac2a2c95eaed92d5",
       "version_major": 2,
       "version_minor": 0
      },
      "text/plain": [
       "  0%|          | 0/1 [00:00<?, ?it/s]"
      ]
     },
     "metadata": {},
     "output_type": "display_data"
    },
    {
     "name": "stdout",
     "output_type": "stream",
     "text": [
      "../runs/meetup_target/Inferred/FullDialog/Qwen-QwQ-32B\n"
     ]
    },
    {
     "data": {
      "application/vnd.jupyter.widget-view+json": {
       "model_id": "0350e858dee74c0aaa1d2e25f6589d98",
       "version_major": 2,
       "version_minor": 0
      },
      "text/plain": [
       "  0%|          | 0/50 [00:00<?, ?it/s]"
      ]
     },
     "metadata": {},
     "output_type": "display_data"
    },
    {
     "data": {
      "application/vnd.jupyter.widget-view+json": {
       "model_id": "18e2dfa5d2e54bc0b72106cbc144bbcd",
       "version_major": 2,
       "version_minor": 0
      },
      "text/plain": [
       "  0%|          | 0/1 [00:00<?, ?it/s]"
      ]
     },
     "metadata": {},
     "output_type": "display_data"
    },
    {
     "name": "stdout",
     "output_type": "stream",
     "text": [
      "../runs/meetup_target/Inferred/LocalAnswerContext/Qwen-QwQ-32B\n"
     ]
    },
    {
     "data": {
      "application/vnd.jupyter.widget-view+json": {
       "model_id": "6d52f4bc6fc54f55bcfbe46833f8d367",
       "version_major": 2,
       "version_minor": 0
      },
      "text/plain": [
       "  0%|          | 0/50 [00:00<?, ?it/s]"
      ]
     },
     "metadata": {},
     "output_type": "display_data"
    },
    {
     "data": {
      "application/vnd.jupyter.widget-view+json": {
       "model_id": "16534e47b2c5470db2bce07d7b675eb1",
       "version_major": 2,
       "version_minor": 0
      },
      "text/plain": [
       "  0%|          | 0/2 [00:00<?, ?it/s]"
      ]
     },
     "metadata": {},
     "output_type": "display_data"
    },
    {
     "data": {
      "application/vnd.jupyter.widget-view+json": {
       "model_id": "ca904ec3c5fe43d4a809c49f17954385",
       "version_major": 2,
       "version_minor": 0
      },
      "text/plain": [
       "  0%|          | 0/1 [00:00<?, ?it/s]"
      ]
     },
     "metadata": {},
     "output_type": "display_data"
    },
    {
     "name": "stdout",
     "output_type": "stream",
     "text": [
      "../runs/meetup_target/Has-A_Is-A/FullDialog/Qwen-QwQ-32B\n"
     ]
    },
    {
     "data": {
      "application/vnd.jupyter.widget-view+json": {
       "model_id": "2d74cf1b36d64ebfa39d783f17897abf",
       "version_major": 2,
       "version_minor": 0
      },
      "text/plain": [
       "  0%|          | 0/51 [00:00<?, ?it/s]"
      ]
     },
     "metadata": {},
     "output_type": "display_data"
    },
    {
     "data": {
      "application/vnd.jupyter.widget-view+json": {
       "model_id": "f634dc8a540c4ceb89a8b7ddd3cac46d",
       "version_major": 2,
       "version_minor": 0
      },
      "text/plain": [
       "  0%|          | 0/1 [00:00<?, ?it/s]"
      ]
     },
     "metadata": {},
     "output_type": "display_data"
    },
    {
     "name": "stdout",
     "output_type": "stream",
     "text": [
      "../runs/meetup_target/Has-A_Is-A/LocalAnswerContext/Qwen-QwQ-32B\n"
     ]
    },
    {
     "data": {
      "application/vnd.jupyter.widget-view+json": {
       "model_id": "bda2a825031047f3ac54a8c56a642eec",
       "version_major": 2,
       "version_minor": 0
      },
      "text/plain": [
       "  0%|          | 0/51 [00:00<?, ?it/s]"
      ]
     },
     "metadata": {},
     "output_type": "display_data"
    },
    {
     "data": {
      "application/vnd.jupyter.widget-view+json": {
       "model_id": "77f95356e1a24e3a9cf86e9c6c8d372d",
       "version_major": 2,
       "version_minor": 0
      },
      "text/plain": [
       "  0%|          | 0/2 [00:00<?, ?it/s]"
      ]
     },
     "metadata": {},
     "output_type": "display_data"
    },
    {
     "data": {
      "application/vnd.jupyter.widget-view+json": {
       "model_id": "75afd36425b748b2b54d42166a6c01d8",
       "version_major": 2,
       "version_minor": 0
      },
      "text/plain": [
       "  0%|          | 0/1 [00:00<?, ?it/s]"
      ]
     },
     "metadata": {},
     "output_type": "display_data"
    },
    {
     "name": "stdout",
     "output_type": "stream",
     "text": [
      "../runs/meetup_target/Temporal/FullDialog/Qwen-QwQ-32B\n"
     ]
    },
    {
     "data": {
      "application/vnd.jupyter.widget-view+json": {
       "model_id": "0e5656d6a38f47cab1ec1dc4ac8bfc99",
       "version_major": 2,
       "version_minor": 0
      },
      "text/plain": [
       "  0%|          | 0/50 [00:00<?, ?it/s]"
      ]
     },
     "metadata": {},
     "output_type": "display_data"
    },
    {
     "data": {
      "application/vnd.jupyter.widget-view+json": {
       "model_id": "8d848a597f2c4d17bdd41cecab88ea01",
       "version_major": 2,
       "version_minor": 0
      },
      "text/plain": [
       "  0%|          | 0/1 [00:00<?, ?it/s]"
      ]
     },
     "metadata": {},
     "output_type": "display_data"
    },
    {
     "name": "stdout",
     "output_type": "stream",
     "text": [
      "../runs/meetup_target/Temporal/LocalAnswerContext/Qwen-QwQ-32B\n"
     ]
    },
    {
     "data": {
      "application/vnd.jupyter.widget-view+json": {
       "model_id": "b0d7cd26461442b7877898f0532b1e77",
       "version_major": 2,
       "version_minor": 0
      },
      "text/plain": [
       "  0%|          | 0/50 [00:00<?, ?it/s]"
      ]
     },
     "metadata": {},
     "output_type": "display_data"
    },
    {
     "data": {
      "application/vnd.jupyter.widget-view+json": {
       "model_id": "d9467e553ce6496a89d3e48ad7799d2d",
       "version_major": 2,
       "version_minor": 0
      },
      "text/plain": [
       "  0%|          | 0/2 [00:00<?, ?it/s]"
      ]
     },
     "metadata": {},
     "output_type": "display_data"
    },
    {
     "data": {
      "application/vnd.jupyter.widget-view+json": {
       "model_id": "cf46112bad404128be31ddb86e67ee2f",
       "version_major": 2,
       "version_minor": 0
      },
      "text/plain": [
       "  0%|          | 0/1 [00:00<?, ?it/s]"
      ]
     },
     "metadata": {},
     "output_type": "display_data"
    },
    {
     "name": "stdout",
     "output_type": "stream",
     "text": [
      "../runs/meetup_target/Spatial/FullDialog/Qwen-QwQ-32B\n"
     ]
    },
    {
     "data": {
      "application/vnd.jupyter.widget-view+json": {
       "model_id": "d8ad4e4e06594e6189183ac62d60d94b",
       "version_major": 2,
       "version_minor": 0
      },
      "text/plain": [
       "  0%|          | 0/50 [00:00<?, ?it/s]"
      ]
     },
     "metadata": {},
     "output_type": "display_data"
    },
    {
     "data": {
      "application/vnd.jupyter.widget-view+json": {
       "model_id": "a37096b63a1642d1a91bd485569f447b",
       "version_major": 2,
       "version_minor": 0
      },
      "text/plain": [
       "  0%|          | 0/1 [00:00<?, ?it/s]"
      ]
     },
     "metadata": {},
     "output_type": "display_data"
    },
    {
     "name": "stdout",
     "output_type": "stream",
     "text": [
      "../runs/meetup_target/Spatial/LocalAnswerContext/Qwen-QwQ-32B\n"
     ]
    },
    {
     "data": {
      "application/vnd.jupyter.widget-view+json": {
       "model_id": "0f3e777daf464274a59948dcfad68543",
       "version_major": 2,
       "version_minor": 0
      },
      "text/plain": [
       "  0%|          | 0/50 [00:00<?, ?it/s]"
      ]
     },
     "metadata": {},
     "output_type": "display_data"
    }
   ],
   "source": [
    "for t in dirs:\n",
    "    #print(t)\n",
    "    infers = glob(t+\"/*\")\n",
    "    for i in tqdm(infers) :\n",
    "        models = glob(i+\"/*\")\n",
    "        #print(models)\n",
    "        for j in tqdm(models):\n",
    "            #if \"Gemma-2-2B-it\" not in j :\n",
    "            #    if \"Gemma-2-9B-it\" not in j :\n",
    "            #        continue\n",
    "            replaced = j.replace(\"meetup_target\", \"meetup_target_json\")\n",
    "            if not os.path.exists(replaced):\n",
    "                os.makedirs(replaced)\n",
    "            files = glob(j+\"/*\")\n",
    "            print(j)\n",
    "            for file in tqdm(files):\n",
    "                idx = file.split(\"/\")[-1]\n",
    "                #print(file)\n",
    "                #print(replaced +\"/\"+ idx)\n",
    "\n",
    "                df = pd.read_csv(\"../data/meetup_target/\"+t.split(\"/\")[-1]+\"/\"+idx.split(\".\")[0]+\".csv\", sep=\",\")\n",
    "                question = df.iloc[-2][\"msg\"]\n",
    "                with open(\"../data/answers/\"+t.split(\"/\")[-1]+\"/\"+idx.split(\".\")[0]+\".txt\", \"r\") as f:\n",
    "                    lines = f.readlines()\n",
    "                    label = lines[0][:-1]\n",
    "                    exact_label = lines[1]\n",
    "                    f.close()\n",
    "                    #print(label)\n",
    "                #print(exact_label)\n",
    "                with open(file, \"r\") as f:\n",
    "                    completion = f.read()\n",
    "                    f.close()\n",
    "                json_dict = {\"question\":question,\n",
    "                             \"completion\":completion,\n",
    "                             \"exact_match\":exact_label,\n",
    "                             \"label\":label,}\n",
    "                #print(json_dict)\n",
    "                #print(replaced +\"/\"+ idx.split(\".\")[0]+\".json\")\n",
    "                #print(replaced +\"/\"+ idx.split(\".\")[0]+\".json\")\n",
    "                with open(replaced +\"/\"+ idx.split(\".\")[0]+\".json\", \"w\") as fp:\n",
    "                    json.dump(json_dict,fp, indent=4)\n",
    "                    fp.close()"
   ]
  }
 ],
 "metadata": {
  "kernelspec": {
   "display_name": "Python 3",
   "language": "python",
   "name": "python3"
  },
  "language_info": {
   "codemirror_mode": {
    "name": "ipython",
    "version": 3
   },
   "file_extension": ".py",
   "mimetype": "text/x-python",
   "name": "python",
   "nbconvert_exporter": "python",
   "pygments_lexer": "ipython3",
   "version": "3.10.12"
  }
 },
 "nbformat": 4,
 "nbformat_minor": 2
}
